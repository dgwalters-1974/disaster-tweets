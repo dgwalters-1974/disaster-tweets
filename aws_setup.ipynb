{
 "cells": [
  {
   "cell_type": "markdown",
   "metadata": {},
   "source": [
    "# Check for presence of EC2 instance"
   ]
  },
  {
   "cell_type": "code",
   "execution_count": 32,
   "metadata": {},
   "outputs": [
    {
     "name": "stdout",
     "output_type": "stream",
     "text": [
      "No instance found with name mlops-1\n"
     ]
    },
    {
     "data": {
      "text/plain": [
       "''"
      ]
     },
     "execution_count": 32,
     "metadata": {},
     "output_type": "execute_result"
    }
   ],
   "source": [
    "import boto3\n",
    "\n",
    "ec2 = boto3.client('ec2')\n",
    "\n",
    "response = ec2.describe_instances()\n",
    "\n",
    "# instance_name = \"mlops-kgptalkie\"\n",
    "\n",
    "instance_name = \"mlops-1\"\n",
    "\n",
    "instance_id=\"\" \n",
    "\n",
    "for resp in response['Reservations']:\n",
    "    resp = resp['Instances'][0]\n",
    "    tags = resp.get('Tags', [])\n",
    "    \n",
    "    for tag in tags:\n",
    "        if tag.get(\"Key\", \"\")==\"Name\" and tag.get(\"Value\", \"\")==instance_name:\n",
    "            instance_id = resp['InstanceId']\n",
    "\n",
    "if instance_id==\"\":\n",
    "    print(f\"No instance found with name {instance_name}\")\n",
    "    # raise(\"Stop here!!!\")\n",
    "\n",
    "instance_id\n"
   ]
  },
  {
   "cell_type": "markdown",
   "metadata": {},
   "source": [
    "# Create AWS EC2 instance"
   ]
  },
  {
   "cell_type": "code",
   "execution_count": 34,
   "metadata": {},
   "outputs": [],
   "source": [
    "ec2 = boto3.client('ec2')\n",
    "\n",
    "ec2.describe_instances()\n",
    "\n",
    "resp = ec2.create_key_pair(KeyName='key-1')\n",
    "\n",
    "file = open(\"creds/key-1.pem\", 'w')\n",
    "file.write(resp['KeyMaterial'])\n",
    "file.close()"
   ]
  },
  {
   "cell_type": "code",
   "execution_count": 35,
   "metadata": {},
   "outputs": [],
   "source": [
    "import boto3\n",
    "\n",
    "ec2 = boto3.client('ec2')\n",
    "\n",
    "if instance_id == \"\":\n",
    "    response = ec2.run_instances(\n",
    "        ImageId = 'ami-0197c13a4f68c9360',\n",
    "        MinCount=1,\n",
    "        MaxCount=1,\n",
    "        InstanceType='t2.large',\n",
    "        KeyName='key-1',\n",
    "        BlockDeviceMappings=[\n",
    "            {\n",
    "                \"DeviceName\": \"/dev/xvda\",\n",
    "                'Ebs':{\n",
    "                    'DeleteOnTermination': True,\n",
    "                    'VolumeSize': 120\n",
    "                }\n",
    "            }\n",
    "        ]\n",
    "\n",
    "    )\n",
    "\n",
    "    instance_id = response['Instances'][0]['InstanceId']\n",
    "\n",
    "    ec2.create_tags(Resources=[instance_id], Tags=[\n",
    "        {\n",
    "            'Key':'Name',\n",
    "            'Value':instance_name\n",
    "        }\n",
    "    ])\n",
    "\n",
    "else:\n",
    "    print(\"Instance is already present\")"
   ]
  },
  {
   "cell_type": "markdown",
   "metadata": {},
   "source": [
    "# Create security group and add rules"
   ]
  },
  {
   "cell_type": "code",
   "execution_count": 36,
   "metadata": {},
   "outputs": [
    {
     "data": {
      "text/plain": [
       "'sg-0295a206172b63740'"
      ]
     },
     "execution_count": 36,
     "metadata": {},
     "output_type": "execute_result"
    }
   ],
   "source": [
    "group_name = 'dgwalters'\n",
    "\n",
    "response = ec2.describe_security_groups()\n",
    "\n",
    "security_group_id = [x['GroupId'] for x in response['SecurityGroups'] if x['GroupName']==group_name]\n",
    "\n",
    "if security_group_id == []:\n",
    "    response = ec2.create_security_group(\n",
    "        GroupName = group_name,\n",
    "        Description = \"Security group for testing\"\n",
    "    )\n",
    "    security_group_id = response['GroupId']\n",
    "else:\n",
    "    security_group_id = security_group_id[0]\n",
    "\n",
    "security_group_id"
   ]
  },
  {
   "cell_type": "code",
   "execution_count": 37,
   "metadata": {},
   "outputs": [
    {
     "name": "stdout",
     "output_type": "stream",
     "text": [
      "This rule is already there\n",
      "This rule is already there\n",
      "This rule is already there\n",
      "This rule is already there\n"
     ]
    }
   ],
   "source": [
    "from botocore.exceptions import ClientError\n",
    "\n",
    "def update_security_group(group_id, protocol, port, cidr):\n",
    "    try:\n",
    "        response = ec2.authorize_security_group_ingress(\n",
    "            GroupId = group_id,\n",
    "            IpPermissions=[\n",
    "                {\n",
    "                    'IpProtocol': protocol,\n",
    "                    'FromPort': port,\n",
    "                    'ToPort': port,\n",
    "                    'IpRanges': [{'CidrIp': cidr}]\n",
    "                }\n",
    "            ]\n",
    "        )\n",
    "    except ClientError as e:\n",
    "        if e.response['Error']['Code']=='InvalidPermission.Duplicate':\n",
    "            print('This rule is already there')\n",
    "        else:\n",
    "            print(\"an error as occured!\")\n",
    "            print(e)\n",
    "\n",
    "update_security_group(security_group_id, 'tcp', 22, '0.0.0.0/0')\n",
    "update_security_group(security_group_id, 'tcp', 80, '0.0.0.0/0')\n",
    "update_security_group(security_group_id, 'tcp', 8501, '0.0.0.0/0')\n",
    "update_security_group(security_group_id, 'tcp', 8502, '0.0.0.0/0')"
   ]
  },
  {
   "cell_type": "code",
   "execution_count": null,
   "metadata": {},
   "outputs": [
    {
     "data": {
      "text/plain": [
       "{'ResponseMetadata': {'RequestId': 'c22d018e-23c4-4ae3-96da-619bf0150244',\n",
       "  'HTTPStatusCode': 200,\n",
       "  'HTTPHeaders': {'x-amzn-requestid': 'c22d018e-23c4-4ae3-96da-619bf0150244',\n",
       "   'cache-control': 'no-cache, no-store',\n",
       "   'strict-transport-security': 'max-age=31536000; includeSubDomains',\n",
       "   'content-type': 'text/xml;charset=UTF-8',\n",
       "   'content-length': '235',\n",
       "   'date': 'Fri, 22 Nov 2024 19:31:11 GMT',\n",
       "   'server': 'AmazonEC2'},\n",
       "  'RetryAttempts': 0}}"
      ]
     },
     "execution_count": 38,
     "metadata": {},
     "output_type": "execute_result"
    },
    {
     "ename": "",
     "evalue": "",
     "output_type": "error",
     "traceback": [
      "\u001b[1;31mThe Kernel crashed while executing code in the current cell or a previous cell. \n",
      "\u001b[1;31mPlease review the code in the cell(s) to identify a possible cause of the failure. \n",
      "\u001b[1;31mClick <a href='https://aka.ms/vscodeJupyterKernelCrash'>here</a> for more info. \n",
      "\u001b[1;31mView Jupyter <a href='command:jupyter.viewOutput'>log</a> for further details."
     ]
    }
   ],
   "source": [
    "ec2.modify_instance_attribute(InstanceId=instance_id, Groups=[security_group_id])"
   ]
  },
  {
   "cell_type": "code",
   "execution_count": 7,
   "metadata": {},
   "outputs": [
    {
     "ename": "NoSuchEntityException",
     "evalue": "An error occurred (NoSuchEntity) when calling the GetRole operation: The role with name ec2-s3-full-access cannot be found.",
     "output_type": "error",
     "traceback": [
      "\u001b[1;31m---------------------------------------------------------------------------\u001b[0m",
      "\u001b[1;31mNoSuchEntityException\u001b[0m                     Traceback (most recent call last)",
      "Cell \u001b[1;32mIn[7], line 6\u001b[0m\n\u001b[0;32m      2\u001b[0m iam \u001b[38;5;241m=\u001b[39m boto3\u001b[38;5;241m.\u001b[39mclient(\u001b[38;5;124m'\u001b[39m\u001b[38;5;124miam\u001b[39m\u001b[38;5;124m'\u001b[39m)\n\u001b[0;32m      4\u001b[0m role_name \u001b[38;5;241m=\u001b[39m \u001b[38;5;124m\"\u001b[39m\u001b[38;5;124mec2-s3-full-access\u001b[39m\u001b[38;5;124m\"\u001b[39m\n\u001b[1;32m----> 6\u001b[0m response \u001b[38;5;241m=\u001b[39m \u001b[43miam\u001b[49m\u001b[38;5;241;43m.\u001b[39;49m\u001b[43mget_role\u001b[49m\u001b[43m(\u001b[49m\u001b[43mRoleName\u001b[49m\u001b[38;5;241;43m=\u001b[39;49m\u001b[43mrole_name\u001b[49m\u001b[43m)\u001b[49m\n\u001b[0;32m      8\u001b[0m role_arn \u001b[38;5;241m=\u001b[39m response[\u001b[38;5;124m'\u001b[39m\u001b[38;5;124mRole\u001b[39m\u001b[38;5;124m'\u001b[39m][\u001b[38;5;124m'\u001b[39m\u001b[38;5;124mArn\u001b[39m\u001b[38;5;124m'\u001b[39m]\n\u001b[0;32m     10\u001b[0m role_arn\n",
      "File \u001b[1;32mc:\\Users\\dgwal\\tweet-classification\\.venv\\Lib\\site-packages\\botocore\\client.py:565\u001b[0m, in \u001b[0;36mClientCreator._create_api_method.<locals>._api_call\u001b[1;34m(self, *args, **kwargs)\u001b[0m\n\u001b[0;32m    561\u001b[0m     \u001b[38;5;28;01mraise\u001b[39;00m \u001b[38;5;167;01mTypeError\u001b[39;00m(\n\u001b[0;32m    562\u001b[0m         \u001b[38;5;124mf\u001b[39m\u001b[38;5;124m\"\u001b[39m\u001b[38;5;132;01m{\u001b[39;00mpy_operation_name\u001b[38;5;132;01m}\u001b[39;00m\u001b[38;5;124m() only accepts keyword arguments.\u001b[39m\u001b[38;5;124m\"\u001b[39m\n\u001b[0;32m    563\u001b[0m     )\n\u001b[0;32m    564\u001b[0m \u001b[38;5;66;03m# The \"self\" in this scope is referring to the BaseClient.\u001b[39;00m\n\u001b[1;32m--> 565\u001b[0m \u001b[38;5;28;01mreturn\u001b[39;00m \u001b[38;5;28;43mself\u001b[39;49m\u001b[38;5;241;43m.\u001b[39;49m\u001b[43m_make_api_call\u001b[49m\u001b[43m(\u001b[49m\u001b[43moperation_name\u001b[49m\u001b[43m,\u001b[49m\u001b[43m \u001b[49m\u001b[43mkwargs\u001b[49m\u001b[43m)\u001b[49m\n",
      "File \u001b[1;32mc:\\Users\\dgwal\\tweet-classification\\.venv\\Lib\\site-packages\\botocore\\client.py:1017\u001b[0m, in \u001b[0;36mBaseClient._make_api_call\u001b[1;34m(self, operation_name, api_params)\u001b[0m\n\u001b[0;32m   1013\u001b[0m     error_code \u001b[38;5;241m=\u001b[39m error_info\u001b[38;5;241m.\u001b[39mget(\u001b[38;5;124m\"\u001b[39m\u001b[38;5;124mQueryErrorCode\u001b[39m\u001b[38;5;124m\"\u001b[39m) \u001b[38;5;129;01mor\u001b[39;00m error_info\u001b[38;5;241m.\u001b[39mget(\n\u001b[0;32m   1014\u001b[0m         \u001b[38;5;124m\"\u001b[39m\u001b[38;5;124mCode\u001b[39m\u001b[38;5;124m\"\u001b[39m\n\u001b[0;32m   1015\u001b[0m     )\n\u001b[0;32m   1016\u001b[0m     error_class \u001b[38;5;241m=\u001b[39m \u001b[38;5;28mself\u001b[39m\u001b[38;5;241m.\u001b[39mexceptions\u001b[38;5;241m.\u001b[39mfrom_code(error_code)\n\u001b[1;32m-> 1017\u001b[0m     \u001b[38;5;28;01mraise\u001b[39;00m error_class(parsed_response, operation_name)\n\u001b[0;32m   1018\u001b[0m \u001b[38;5;28;01melse\u001b[39;00m:\n\u001b[0;32m   1019\u001b[0m     \u001b[38;5;28;01mreturn\u001b[39;00m parsed_response\n",
      "\u001b[1;31mNoSuchEntityException\u001b[0m: An error occurred (NoSuchEntity) when calling the GetRole operation: The role with name ec2-s3-full-access cannot be found."
     ]
    }
   ],
   "source": [
    "# describe IAM role\n",
    "iam = boto3.client('iam')\n",
    "\n",
    "role_name = \"ec2-s3-full-access\"\n",
    "\n",
    "response = iam.get_role(RoleName=role_name)\n",
    "\n",
    "role_arn = response['Role']['Arn']\n",
    "\n",
    "role_arn\n",
    "\n",
    "# Ensure there is an instance profile with the same name as the role\n",
    "instance_profile_name = role_name\n",
    "try:\n",
    "    iam.get_instance_profile(InstanceProfileName=instance_profile_name)\n",
    "except iam.exceptions.NoSuchEntityException:\n",
    "    # Create an instance profile if it doesn't exist\n",
    "    iam.create_instance_profile(InstanceProfileName=instance_profile_name)\n",
    "    # Add role to the instance profile\n",
    "    iam.add_role_to_instance_profile(\n",
    "        InstanceProfileName=instance_profile_name,\n",
    "        RoleName=role_name\n",
    "    )\n",
    "\n",
    "# Attach the instance profile to the EC2 instance\n",
    "ec2.associate_iam_instance_profile(\n",
    "    IamInstanceProfile={\n",
    "        'Name': instance_profile_name\n",
    "    },\n",
    "    InstanceId=instance_id\n",
    ")"
   ]
  },
  {
   "cell_type": "code",
   "execution_count": null,
   "metadata": {},
   "outputs": [],
   "source": [
    "54.234.218.4\n",
    "ssh -i \"C:\\Users\\dgwal\\.ssh\\dgwalters_new.pem\" ubuntu@ec2-54-221-102-75.compute-1.amazonaws.com\n",
    "ssh -i \"dgwalters_new.pem\" ubuntu@ec2-54-221-102-75.compute-1.amazonaws.com\n",
    "ssh -i \"C:\\Users\\dgwal\\.ssh\\dgwalters_new.pem\" ubuntu@98.81.217.238\n",
    "ssh -i \"key-1.pem\" ubuntu@ec2-54-81-122-139.compute-1.amazonaws.com\n",
    "\n",
    "instance = mlops-1"
   ]
  },
  {
   "cell_type": "code",
   "execution_count": 31,
   "metadata": {},
   "outputs": [
    {
     "ename": "ClientError",
     "evalue": "An error occurred (InvalidKeyPair.Duplicate) when calling the CreateKeyPair operation: The keypair already exists",
     "output_type": "error",
     "traceback": [
      "\u001b[1;31m---------------------------------------------------------------------------\u001b[0m",
      "\u001b[1;31mClientError\u001b[0m                               Traceback (most recent call last)",
      "Cell \u001b[1;32mIn[31], line 5\u001b[0m\n\u001b[0;32m      1\u001b[0m \u001b[38;5;66;03m# ec2 = boto3.client('ec2')\u001b[39;00m\n\u001b[0;32m      2\u001b[0m \n\u001b[0;32m      3\u001b[0m \u001b[38;5;66;03m# ec2.describe_instances()\u001b[39;00m\n\u001b[1;32m----> 5\u001b[0m resp \u001b[38;5;241m=\u001b[39m \u001b[43mec2\u001b[49m\u001b[38;5;241;43m.\u001b[39;49m\u001b[43mcreate_key_pair\u001b[49m\u001b[43m(\u001b[49m\u001b[43mKeyName\u001b[49m\u001b[38;5;241;43m=\u001b[39;49m\u001b[38;5;124;43m'\u001b[39;49m\u001b[38;5;124;43mdgw1974\u001b[39;49m\u001b[38;5;124;43m'\u001b[39;49m\u001b[43m)\u001b[49m\n",
      "File \u001b[1;32mc:\\Users\\dgwal\\tweet-classification\\.venv\\Lib\\site-packages\\botocore\\client.py:565\u001b[0m, in \u001b[0;36mClientCreator._create_api_method.<locals>._api_call\u001b[1;34m(self, *args, **kwargs)\u001b[0m\n\u001b[0;32m    561\u001b[0m     \u001b[38;5;28;01mraise\u001b[39;00m \u001b[38;5;167;01mTypeError\u001b[39;00m(\n\u001b[0;32m    562\u001b[0m         \u001b[38;5;124mf\u001b[39m\u001b[38;5;124m\"\u001b[39m\u001b[38;5;132;01m{\u001b[39;00mpy_operation_name\u001b[38;5;132;01m}\u001b[39;00m\u001b[38;5;124m() only accepts keyword arguments.\u001b[39m\u001b[38;5;124m\"\u001b[39m\n\u001b[0;32m    563\u001b[0m     )\n\u001b[0;32m    564\u001b[0m \u001b[38;5;66;03m# The \"self\" in this scope is referring to the BaseClient.\u001b[39;00m\n\u001b[1;32m--> 565\u001b[0m \u001b[38;5;28;01mreturn\u001b[39;00m \u001b[38;5;28;43mself\u001b[39;49m\u001b[38;5;241;43m.\u001b[39;49m\u001b[43m_make_api_call\u001b[49m\u001b[43m(\u001b[49m\u001b[43moperation_name\u001b[49m\u001b[43m,\u001b[49m\u001b[43m \u001b[49m\u001b[43mkwargs\u001b[49m\u001b[43m)\u001b[49m\n",
      "File \u001b[1;32mc:\\Users\\dgwal\\tweet-classification\\.venv\\Lib\\site-packages\\botocore\\client.py:1017\u001b[0m, in \u001b[0;36mBaseClient._make_api_call\u001b[1;34m(self, operation_name, api_params)\u001b[0m\n\u001b[0;32m   1013\u001b[0m     error_code \u001b[38;5;241m=\u001b[39m error_info\u001b[38;5;241m.\u001b[39mget(\u001b[38;5;124m\"\u001b[39m\u001b[38;5;124mQueryErrorCode\u001b[39m\u001b[38;5;124m\"\u001b[39m) \u001b[38;5;129;01mor\u001b[39;00m error_info\u001b[38;5;241m.\u001b[39mget(\n\u001b[0;32m   1014\u001b[0m         \u001b[38;5;124m\"\u001b[39m\u001b[38;5;124mCode\u001b[39m\u001b[38;5;124m\"\u001b[39m\n\u001b[0;32m   1015\u001b[0m     )\n\u001b[0;32m   1016\u001b[0m     error_class \u001b[38;5;241m=\u001b[39m \u001b[38;5;28mself\u001b[39m\u001b[38;5;241m.\u001b[39mexceptions\u001b[38;5;241m.\u001b[39mfrom_code(error_code)\n\u001b[1;32m-> 1017\u001b[0m     \u001b[38;5;28;01mraise\u001b[39;00m error_class(parsed_response, operation_name)\n\u001b[0;32m   1018\u001b[0m \u001b[38;5;28;01melse\u001b[39;00m:\n\u001b[0;32m   1019\u001b[0m     \u001b[38;5;28;01mreturn\u001b[39;00m parsed_response\n",
      "\u001b[1;31mClientError\u001b[0m: An error occurred (InvalidKeyPair.Duplicate) when calling the CreateKeyPair operation: The keypair already exists"
     ]
    }
   ],
   "source": [
    "# ec2 = boto3.client('ec2')\n",
    "\n",
    "# ec2.describe_instances()\n",
    "\n",
    "resp = ec2.create_key_pair(KeyName='dgw1974')"
   ]
  },
  {
   "cell_type": "code",
   "execution_count": null,
   "metadata": {},
   "outputs": [],
   "source": [
    "file = open(\"creds/dgwalters.pem\", 'w')\n",
    "file.write(resp['KeyMaterial'])\n",
    "file.close()"
   ]
  },
  {
   "cell_type": "code",
   "execution_count": 24,
   "metadata": {},
   "outputs": [
    {
     "data": {
      "text/plain": [
       "{'AmiLaunchIndex': 0,\n",
       " 'ImageId': 'ami-0197c13a4f68c9360',\n",
       " 'InstanceId': 'i-0c63f60d2d284623d',\n",
       " 'InstanceType': 't2.large',\n",
       " 'KeyName': 'dgw1974',\n",
       " 'LaunchTime': datetime.datetime(2024, 11, 22, 18, 9, 33, tzinfo=tzutc()),\n",
       " 'Monitoring': {'State': 'disabled'},\n",
       " 'Placement': {'AvailabilityZone': 'us-east-1c',\n",
       "  'GroupName': '',\n",
       "  'Tenancy': 'default'},\n",
       " 'PrivateDnsName': '',\n",
       " 'ProductCodes': [],\n",
       " 'PublicDnsName': '',\n",
       " 'State': {'Code': 48, 'Name': 'terminated'},\n",
       " 'StateTransitionReason': 'User initiated (2024-11-22 18:49:16 GMT)',\n",
       " 'Architecture': 'x86_64',\n",
       " 'BlockDeviceMappings': [],\n",
       " 'ClientToken': '65293c87-f67f-46dd-89fa-1795f29df0f4',\n",
       " 'EbsOptimized': False,\n",
       " 'EnaSupport': True,\n",
       " 'Hypervisor': 'xen',\n",
       " 'NetworkInterfaces': [],\n",
       " 'RootDeviceName': '/dev/sda1',\n",
       " 'RootDeviceType': 'ebs',\n",
       " 'SecurityGroups': [],\n",
       " 'StateReason': {'Code': 'Client.UserInitiatedShutdown',\n",
       "  'Message': 'Client.UserInitiatedShutdown: User initiated shutdown'},\n",
       " 'Tags': [{'Key': 'Name', 'Value': 'mlops-prod'}],\n",
       " 'VirtualizationType': 'hvm',\n",
       " 'CpuOptions': {'CoreCount': 2, 'ThreadsPerCore': 1},\n",
       " 'CapacityReservationSpecification': {'CapacityReservationPreference': 'open'},\n",
       " 'HibernationOptions': {'Configured': False},\n",
       " 'MetadataOptions': {'State': 'pending',\n",
       "  'HttpTokens': 'optional',\n",
       "  'HttpPutResponseHopLimit': 1,\n",
       "  'HttpEndpoint': 'enabled',\n",
       "  'HttpProtocolIpv6': 'disabled',\n",
       "  'InstanceMetadataTags': 'disabled'},\n",
       " 'EnclaveOptions': {'Enabled': False},\n",
       " 'PlatformDetails': 'Linux/UNIX',\n",
       " 'UsageOperation': 'RunInstances',\n",
       " 'UsageOperationUpdateTime': datetime.datetime(2024, 11, 22, 18, 9, 33, tzinfo=tzutc()),\n",
       " 'MaintenanceOptions': {'AutoRecovery': 'default'},\n",
       " 'CurrentInstanceBootMode': 'legacy-bios'}"
      ]
     },
     "execution_count": 24,
     "metadata": {},
     "output_type": "execute_result"
    }
   ],
   "source": [
    "resp"
   ]
  },
  {
   "cell_type": "code",
   "execution_count": null,
   "metadata": {},
   "outputs": [],
   "source": []
  }
 ],
 "metadata": {
  "kernelspec": {
   "display_name": ".venv",
   "language": "python",
   "name": "python3"
  },
  "language_info": {
   "codemirror_mode": {
    "name": "ipython",
    "version": 3
   },
   "file_extension": ".py",
   "mimetype": "text/x-python",
   "name": "python",
   "nbconvert_exporter": "python",
   "pygments_lexer": "ipython3",
   "version": "3.11.2"
  }
 },
 "nbformat": 4,
 "nbformat_minor": 2
}
